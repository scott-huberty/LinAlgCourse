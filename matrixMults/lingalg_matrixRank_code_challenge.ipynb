{
  "nbformat": 4,
  "nbformat_minor": 0,
  "metadata": {
    "colab": {
      "provenance": [],
      "authorship_tag": "ABX9TyP0+wbln9t7A/cV0SijLWUx",
      "include_colab_link": true
    },
    "kernelspec": {
      "name": "python3",
      "display_name": "Python 3"
    },
    "language_info": {
      "name": "python"
    }
  },
  "cells": [
    {
      "cell_type": "markdown",
      "metadata": {
        "id": "view-in-github",
        "colab_type": "text"
      },
      "source": [
        "<a href=\"https://colab.research.google.com/github/scott-huberty/LinAlgCourse/blob/remove_checkpoints/matrixMults/lingalg_matrixRank_code_challenge.ipynb\" target=\"_parent\"><img src=\"https://colab.research.google.com/assets/colab-badge.svg\" alt=\"Open In Colab\"/></a>"
      ]
    },
    {
      "cell_type": "code",
      "execution_count": 1,
      "metadata": {
        "id": "jxEhqSiPC0lf"
      },
      "outputs": [],
      "source": [
        "import numpy as np"
      ]
    },
    {
      "cell_type": "code",
      "source": [
        "# challenge: Create 10x10 matrix with a rank of 4\n",
        "\n",
        "# Key Ideas\n",
        "#    - The maximum rank of a matrix is the minimum of the number of rows and columns.\n",
        "#    - When Multiplying two matrices, the maximum rank of the resulting matrix is the minimum of the ranks of the two matrices.\n",
        "\n",
        "A = np.random.randint(1, 3, size=(10, 4))\n",
        "B = np.random.randint(1, 3, size=(4, 10))\n",
        "\n",
        "C = A @ B\n",
        "\n",
        "with np.printoptions(precision=3, suppress=True):\n",
        "  print(C)"
      ],
      "metadata": {
        "colab": {
          "base_uri": "https://localhost:8080/"
        },
        "id": "9_BBG1E7C7Rb",
        "outputId": "d512264a-ec42-46c1-a40b-b19784025f7c"
      },
      "execution_count": 2,
      "outputs": [
        {
          "output_type": "stream",
          "name": "stdout",
          "text": [
            "[[ 9  8  8  6  6  9  5  8  7  6]\n",
            " [12 10 11  9  9 12  7 11  9  8]\n",
            " [ 8  7  8  7  7  9  5  8  6  6]\n",
            " [ 9  8  8  6  6  9  5  8  7  6]\n",
            " [10  8  9  8  8 10  6  9  7  7]\n",
            " [12 10 11  9  9 12  7 11  9  8]\n",
            " [ 7  6  6  5  5  7  4  6  5  5]\n",
            " [12 10 11  9  9 12  7 11  9  8]\n",
            " [ 7  6  6  5  5  7  4  6  5  5]\n",
            " [10  9 10  8  8 11  6 10  8  7]]\n"
          ]
        }
      ]
    },
    {
      "cell_type": "code",
      "source": [
        "C2 = np.zeros((10, 10), dtype=int)\n",
        "for ri, row in enumerate(A):\n",
        "  for ci, col in enumerate(B.T):\n",
        "    this_elem = sum([Ai*Bi for Ai, Bi in zip(row, col)])\n",
        "    C2[ri, ci] = this_elem\n",
        "\n",
        "C2"
      ],
      "metadata": {
        "colab": {
          "base_uri": "https://localhost:8080/"
        },
        "id": "jD-TxyyTC745",
        "outputId": "7896b5b4-92d7-458d-86ea-271c60aef047"
      },
      "execution_count": 3,
      "outputs": [
        {
          "output_type": "execute_result",
          "data": {
            "text/plain": [
              "array([[ 9,  8,  8,  6,  6,  9,  5,  8,  7,  6],\n",
              "       [12, 10, 11,  9,  9, 12,  7, 11,  9,  8],\n",
              "       [ 8,  7,  8,  7,  7,  9,  5,  8,  6,  6],\n",
              "       [ 9,  8,  8,  6,  6,  9,  5,  8,  7,  6],\n",
              "       [10,  8,  9,  8,  8, 10,  6,  9,  7,  7],\n",
              "       [12, 10, 11,  9,  9, 12,  7, 11,  9,  8],\n",
              "       [ 7,  6,  6,  5,  5,  7,  4,  6,  5,  5],\n",
              "       [12, 10, 11,  9,  9, 12,  7, 11,  9,  8],\n",
              "       [ 7,  6,  6,  5,  5,  7,  4,  6,  5,  5],\n",
              "       [10,  9, 10,  8,  8, 11,  6, 10,  8,  7]])"
            ]
          },
          "metadata": {},
          "execution_count": 3
        }
      ]
    },
    {
      "cell_type": "code",
      "source": [
        "np.linalg.matrix_rank(C2)"
      ],
      "metadata": {
        "colab": {
          "base_uri": "https://localhost:8080/"
        },
        "id": "j5tZMAnsC_78",
        "outputId": "9a5b0b33-fccb-4bcf-fa2a-cf568b3182a9"
      },
      "execution_count": 4,
      "outputs": [
        {
          "output_type": "execute_result",
          "data": {
            "text/plain": [
              "4"
            ]
          },
          "metadata": {},
          "execution_count": 4
        }
      ]
    }
  ]
}