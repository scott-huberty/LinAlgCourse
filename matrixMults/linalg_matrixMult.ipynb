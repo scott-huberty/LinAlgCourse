{
  "nbformat": 4,
  "nbformat_minor": 0,
  "metadata": {
    "colab": {
      "provenance": [],
      "authorship_tag": "ABX9TyPTAwmZb4Aqe9X/n9MI+xyq",
      "include_colab_link": true
    },
    "kernelspec": {
      "name": "python3",
      "display_name": "Python 3"
    },
    "language_info": {
      "name": "python"
    }
  },
  "cells": [
    {
      "cell_type": "markdown",
      "metadata": {
        "id": "view-in-github",
        "colab_type": "text"
      },
      "source": [
        "<a href=\"https://colab.research.google.com/github/scott-huberty/LinAlgCourse/blob/remove_checkpoints/matrixMults/linalg_matrixMult.ipynb\" target=\"_parent\"><img src=\"https://colab.research.google.com/assets/colab-badge.svg\" alt=\"Open In Colab\"/></a>"
      ]
    },
    {
      "cell_type": "code",
      "execution_count": 1,
      "metadata": {
        "id": "ATv9f6IjhDHU"
      },
      "outputs": [],
      "source": [
        "import numpy as np"
      ]
    },
    {
      "cell_type": "markdown",
      "source": [],
      "metadata": {
        "id": "6LwMPdy_hGoJ"
      }
    },
    {
      "cell_type": "code",
      "source": [
        "m = 4\n",
        "n = 6\n",
        "\n",
        "A = np.random.rand(m, n)\n",
        "B = np.random.rand(n, m)\n",
        "\n",
        "# Build the product matrix layer-wise\n",
        "C1 = np.zeros((m, m))\n",
        "for i in range(n):\n",
        "    C1 += np.outer(A[:, i], B[i, :])\n",
        "\n",
        "# Implement matrix multiplication\n",
        "C2 = A @ B\n",
        "\n",
        "# Compare the results\n",
        "print(np.allclose(C1, C2))\n",
        "\n",
        "with np.printoptions(precision=3, suppress=True):\n",
        "  print(C1 - C2)"
      ],
      "metadata": {
        "colab": {
          "base_uri": "https://localhost:8080/"
        },
        "id": "CAtIF88UhH5u",
        "outputId": "6107e01b-d294-4eba-c036-6f728b7b82ca"
      },
      "execution_count": 6,
      "outputs": [
        {
          "output_type": "stream",
          "name": "stdout",
          "text": [
            "True\n",
            "[[ 0.  0. -0.  0.]\n",
            " [ 0. -0.  0.  0.]\n",
            " [-0.  0.  0.  0.]\n",
            " [ 0.  0.  0. -0.]]\n"
          ]
        }
      ]
    },
    {
      "cell_type": "code",
      "source": [
        "np.get_printoptions()"
      ],
      "metadata": {
        "colab": {
          "base_uri": "https://localhost:8080/"
        },
        "id": "cZ1TvTTNiFuU",
        "outputId": "1d54e3f2-b412-4d40-fcce-740d429c8e13"
      },
      "execution_count": 7,
      "outputs": [
        {
          "output_type": "execute_result",
          "data": {
            "text/plain": [
              "{'edgeitems': 3,\n",
              " 'threshold': 1000,\n",
              " 'floatmode': 'maxprec',\n",
              " 'precision': 8,\n",
              " 'suppress': False,\n",
              " 'linewidth': 75,\n",
              " 'nanstr': 'nan',\n",
              " 'infstr': 'inf',\n",
              " 'sign': '-',\n",
              " 'formatter': None,\n",
              " 'legacy': False}"
            ]
          },
          "metadata": {},
          "execution_count": 7
        }
      ]
    }
  ]
}