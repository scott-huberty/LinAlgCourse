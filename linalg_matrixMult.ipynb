{
  "nbformat": 4,
  "nbformat_minor": 0,
  "metadata": {
    "colab": {
      "provenance": [],
      "authorship_tag": "ABX9TyMsoiDVg8sXAV1BPVRuBmVA",
      "include_colab_link": true
    },
    "kernelspec": {
      "name": "python3",
      "display_name": "Python 3"
    },
    "language_info": {
      "name": "python"
    }
  },
  "cells": [
    {
      "cell_type": "markdown",
      "metadata": {
        "id": "view-in-github",
        "colab_type": "text"
      },
      "source": [
        "<a href=\"https://colab.research.google.com/github/scott-huberty/LinAlgCourse/blob/remove_checkpoints/linalg_matrixMult.ipynb\" target=\"_parent\"><img src=\"https://colab.research.google.com/assets/colab-badge.svg\" alt=\"Open In Colab\"/></a>"
      ]
    },
    {
      "cell_type": "markdown",
      "source": [
        "#     COURSE: Linear algebra: theory and implementation\n",
        "##    SECTION: Matrix multiplications\n",
        "\n",
        "#### Instructor: sincxpress.com\n",
        "##### Course url: https://www.udemy.com/course/linear-algebra-theory-and-implementation/?couponCode=202110"
      ],
      "metadata": {
        "id": "Fv6kT5-869Mc"
      }
    },
    {
      "cell_type": "code",
      "execution_count": 1,
      "metadata": {
        "id": "ATv9f6IjhDHU"
      },
      "outputs": [],
      "source": [
        "import numpy as np"
      ]
    },
    {
      "cell_type": "code",
      "source": [
        "m = 4\n",
        "n = 6\n",
        "\n",
        "A = np.random.rand(m, n)\n",
        "B = np.random.rand(n, m)\n",
        "\n",
        "# Build the product matrix layer-wise\n",
        "C1 = np.zeros((m, m))\n",
        "for i in range(n):\n",
        "    C1 += np.outer(A[:, i], B[i, :])\n",
        "\n",
        "# Implement matrix multiplication\n",
        "C2 = A @ B\n",
        "\n",
        "# Implement column perspective approach to matrix multiplication\n",
        "C3 = np.zeros((m, m))\n",
        "for i in range(m):\n",
        "  for j in range(n):\n",
        "    C3[:, i] += B[j, i] * A[:, j]\n",
        "\n",
        "\n",
        "# Compare the results\n",
        "print(np.allclose(C1, C2))\n",
        "\n",
        "with np.printoptions(precision=3, suppress=True):  # supress scientific notation\n",
        "  print(C3 - C2)"
      ],
      "metadata": {
        "colab": {
          "base_uri": "https://localhost:8080/"
        },
        "id": "CAtIF88UhH5u",
        "outputId": "3665c897-2784-45b8-d0dd-62a3ba306572"
      },
      "execution_count": 21,
      "outputs": [
        {
          "output_type": "stream",
          "name": "stdout",
          "text": [
            "True\n",
            "[[ 0.  0.  0.  0.]\n",
            " [ 0.  0.  0. -0.]\n",
            " [ 0.  0.  0.  0.]\n",
            " [ 0.  0.  0.  0.]]\n"
          ]
        }
      ]
    }
  ]
}